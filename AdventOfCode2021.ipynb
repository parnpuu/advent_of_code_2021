{
 "cells": [
  {
   "cell_type": "code",
   "execution_count": 1,
   "id": "9a4f22f0-f33c-4aa2-832e-6c4a17144958",
   "metadata": {},
   "outputs": [],
   "source": [
    "### Advent of Code 1"
   ]
  },
  {
   "cell_type": "code",
   "execution_count": 8,
   "id": "ce640b37-6fd0-46c7-92cb-807d102c26dc",
   "metadata": {
    "tags": []
   },
   "outputs": [
    {
     "name": "stdout",
     "output_type": "stream",
     "text": [
      "1602\n"
     ]
    }
   ],
   "source": [
    "# 1.1\n",
    "with open('Desktop/advent1.txt') as f:\n",
    "    lines = f.readlines()\n",
    "    \n",
    "previous_value = ''\n",
    "increase_count = 0\n",
    "\n",
    "for current_value in lines:\n",
    "    #print(current_value)\n",
    "    #print(previous_value)\n",
    "    \n",
    "    if current_value > previous_value:\n",
    "        increase_count += 1\n",
    "        \n",
    "    previous_value = current_value\n",
    "    \n",
    "print(increase_count)\n",
    "        "
   ]
  },
  {
   "cell_type": "code",
   "execution_count": 15,
   "id": "16abb0b6-b0e3-45cc-8cb7-fa5d1ad83424",
   "metadata": {},
   "outputs": [
    {
     "name": "stdout",
     "output_type": "stream",
     "text": [
      "0           1633\n",
      "increase    1633\n",
      "dtype: int64\n"
     ]
    }
   ],
   "source": [
    "# 1.2\n",
    "import pandas as pd\n",
    "\n",
    "df = pd.read_table('Desktop/advent1.txt',header=None,sep=\" \")\n",
    "#print(df)\n",
    "\n",
    "df = df.rolling(3).sum()\n",
    "df['increase'] = df[0].diff()\n",
    "increase_count = df[df.increase > 0].count()\n",
    "\n",
    "print(increase_count)"
   ]
  },
  {
   "cell_type": "code",
   "execution_count": 21,
   "id": "7e863cd6-4010-4969-9ba3-8b7d5177f9bf",
   "metadata": {},
   "outputs": [
    {
     "name": "stdout",
     "output_type": "stream",
     "text": [
      "1950 823\n",
      "1604850\n"
     ]
    }
   ],
   "source": [
    "# 2.1\n",
    "\n",
    "with open('Desktop/advent2.txt') as f:\n",
    "    lines = f.readlines()\n",
    "    \n",
    "distance = 0\n",
    "depth = 0\n",
    "\n",
    "for current_value in lines:\n",
    "    values = current_value.split(' ')\n",
    "    \n",
    "    if values[0] == 'forward':\n",
    "        distance += int(values[1])\n",
    "    if values[0] == 'down':\n",
    "        depth += int(values[1])\n",
    "    if values[0] == 'up':\n",
    "        depth -= int(values[1])\n",
    "        \n",
    "print(distance,depth)\n",
    "print(distance*depth)"
   ]
  },
  {
   "cell_type": "code",
   "execution_count": 22,
   "id": "1b6b5967-42f2-4c1a-95fa-a55b8b028ddb",
   "metadata": {},
   "outputs": [
    {
     "name": "stdout",
     "output_type": "stream",
     "text": [
      "1950 864198\n",
      "1685186100\n"
     ]
    }
   ],
   "source": [
    "# 2.2\n",
    "\n",
    "distance = 0\n",
    "aim = 0\n",
    "depth = 0\n",
    "\n",
    "for current_value in lines:\n",
    "    values = current_value.split(' ')\n",
    "    \n",
    "    if values[0] == 'forward':\n",
    "        distance += int(values[1])\n",
    "        depth += int(values[1])*aim\n",
    "    if values[0] == 'down':\n",
    "        aim += int(values[1])\n",
    "    if values[0] == 'up':\n",
    "        aim -= int(values[1])\n",
    "\n",
    "print(distance,depth)\n",
    "print(distance*depth)"
   ]
  },
  {
   "cell_type": "code",
   "execution_count": null,
   "id": "76c4b79a-b969-4ed9-a44f-db29da08ed4b",
   "metadata": {},
   "outputs": [],
   "source": []
  }
 ],
 "metadata": {
  "kernelspec": {
   "display_name": "Python 3",
   "language": "python",
   "name": "python3"
  },
  "language_info": {
   "codemirror_mode": {
    "name": "ipython",
    "version": 3
   },
   "file_extension": ".py",
   "mimetype": "text/x-python",
   "name": "python",
   "nbconvert_exporter": "python",
   "pygments_lexer": "ipython3",
   "version": "3.9.5"
  }
 },
 "nbformat": 4,
 "nbformat_minor": 5
}
