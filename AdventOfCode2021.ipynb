{
 "cells": [
  {
   "cell_type": "code",
   "execution_count": 1,
   "id": "9a4f22f0-f33c-4aa2-832e-6c4a17144958",
   "metadata": {},
   "outputs": [],
   "source": [
    "### Advent of Code 1"
   ]
  },
  {
   "cell_type": "code",
   "execution_count": 8,
   "id": "ce640b37-6fd0-46c7-92cb-807d102c26dc",
   "metadata": {
    "tags": []
   },
   "outputs": [
    {
     "name": "stdout",
     "output_type": "stream",
     "text": [
      "1602\n"
     ]
    }
   ],
   "source": [
    "# 1.1\n",
    "with open('Desktop/advent1.txt') as f:\n",
    "    lines = f.readlines()\n",
    "    \n",
    "previous_value = ''\n",
    "increase_count = 0\n",
    "\n",
    "for current_value in lines:\n",
    "    #print(current_value)\n",
    "    #print(previous_value)\n",
    "    \n",
    "    if current_value > previous_value:\n",
    "        increase_count += 1\n",
    "        \n",
    "    previous_value = current_value\n",
    "    \n",
    "print(increase_count)\n",
    "        "
   ]
  },
  {
   "cell_type": "code",
   "execution_count": 15,
   "id": "16abb0b6-b0e3-45cc-8cb7-fa5d1ad83424",
   "metadata": {},
   "outputs": [
    {
     "name": "stdout",
     "output_type": "stream",
     "text": [
      "0           1633\n",
      "increase    1633\n",
      "dtype: int64\n"
     ]
    }
   ],
   "source": [
    "# 1.2\n",
    "import pandas as pd\n",
    "\n",
    "df = pd.read_table('Desktop/advent1.txt',header=None,sep=\" \")\n",
    "#print(df)\n",
    "\n",
    "df = df.rolling(3).sum()\n",
    "df['increase'] = df[0].diff()\n",
    "increase_count = df[df.increase > 0].count()\n",
    "\n",
    "print(increase_count)"
   ]
  },
  {
   "cell_type": "code",
   "execution_count": null,
   "id": "7e863cd6-4010-4969-9ba3-8b7d5177f9bf",
   "metadata": {},
   "outputs": [],
   "source": []
  }
 ],
 "metadata": {
  "kernelspec": {
   "display_name": "Python 3",
   "language": "python",
   "name": "python3"
  },
  "language_info": {
   "codemirror_mode": {
    "name": "ipython",
    "version": 3
   },
   "file_extension": ".py",
   "mimetype": "text/x-python",
   "name": "python",
   "nbconvert_exporter": "python",
   "pygments_lexer": "ipython3",
   "version": "3.9.5"
  }
 },
 "nbformat": 4,
 "nbformat_minor": 5
}
